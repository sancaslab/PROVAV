{
 "cells": [
  {
   "cell_type": "code",
   "execution_count": 3,
   "metadata": {
    "collapsed": true
   },
   "outputs": [],
   "source": [
    "import warnings\n",
    "warnings.filterwarnings(\"ignore\", category=DeprecationWarning) # avoid warning message to make the notebook nicer"
   ]
  },
  {
   "cell_type": "code",
   "execution_count": 3,
   "metadata": {},
   "outputs": [
    {
     "data": {
      "application/vnd.jupyter.widget-view+json": {
       "model_id": "17915ec8eaab4f5097044559b281cc2c",
       "version_major": 2,
       "version_minor": 0
      },
      "text/plain": [
       "A Jupyter Widget"
      ]
     },
     "metadata": {},
     "output_type": "display_data"
    }
   ],
   "source": [
    "from Bio.SVDSuperimposer import SVDSuperimposer\n",
    "from Bio.PDB.PDBParser import PDBParser\n",
    "import nglview\n",
    "import numpy"
   ]
  },
  {
   "cell_type": "code",
   "execution_count": 2,
   "metadata": {
    "collapsed": true
   },
   "outputs": [],
   "source": [
    "def read_protein_pdb(file: str, proteinId: str):\n",
    "    \n",
    "    parser = PDBParser(PERMISSIVE=1)\n",
    "    structure: Structure = parser.get_structure(proteinId, file)\n",
    "\n",
    "    return structure"
   ]
  },
  {
   "cell_type": "code",
   "execution_count": null,
   "metadata": {
    "collapsed": true
   },
   "outputs": [],
   "source": []
  },
  {
   "cell_type": "markdown",
   "metadata": {},
   "source": [
    "## 2KPA & 2KPB"
   ]
  },
  {
   "cell_type": "code",
   "execution_count": null,
   "metadata": {
    "collapsed": true
   },
   "outputs": [],
   "source": [
    "protein_2kpa = read_protein_pdb(\"2kpa.pdb\", \"2kpa\")\n",
    "protein_2kpb = read_protein_pdb(\"2kpb.pdb\", \"2kpb\")"
   ]
  },
  {
   "cell_type": "code",
   "execution_count": null,
   "metadata": {
    "collapsed": true
   },
   "outputs": [],
   "source": [
    "atoms_ref = []\n",
    "for chain in protein_2kpa[0]:\n",
    "    for res in chain: \n",
    "        for atom in res: \n",
    "            if atom.get_name() == \"CA\":\n",
    "                atoms_ref.append(atom)\n",
    "print(len(atoms_ref))\n",
    "\n",
    "atoms_mov = []\n",
    "for chain in protein_2kpb[0]:\n",
    "    for res in chain: \n",
    "        for atom in res: \n",
    "            if atom.get_name() == \"CA\":\n",
    "                atoms_mov.append(atom)\n",
    "print(len(atoms_mov))"
   ]
  },
  {
   "cell_type": "code",
   "execution_count": null,
   "metadata": {
    "collapsed": true
   },
   "outputs": [],
   "source": [
    "import Bio\n",
    "super_imposer = Bio.PDB.Superimposer()\n",
    "super_imposer.set_atoms(atoms_ref, atoms_mov)\n",
    "super_imposer.apply(protein_2kpb[0].get_atoms())\n",
    "print (super_imposer.rms)"
   ]
  },
  {
   "cell_type": "code",
   "execution_count": null,
   "metadata": {
    "collapsed": true
   },
   "outputs": [],
   "source": [
    "io = Bio.PDB.PDBIO()\n",
    "io.set_structure(protein_2kpb[0]) \n",
    "io.save(\"aligned_ver1.pdb\")"
   ]
  },
  {
   "cell_type": "code",
   "execution_count": null,
   "metadata": {
    "collapsed": true
   },
   "outputs": [],
   "source": [
    "super_imposer = Bio.PDB.Superimposer()\n",
    "super_imposer.set_atoms(atoms_mov, atoms_mov)\n",
    "super_imposer.apply(protein_2kpb[0].get_atoms())\n",
    "print (super_imposer.rms)"
   ]
  },
  {
   "cell_type": "code",
   "execution_count": null,
   "metadata": {
    "collapsed": true
   },
   "outputs": [],
   "source": [
    "io = Bio.PDB.PDBIO()\n",
    "io.set_structure(protein_2kpb[0]) \n",
    "io.save(\"2kpb_atoms_ver2.pdb\")"
   ]
  },
  {
   "cell_type": "code",
   "execution_count": null,
   "metadata": {
    "collapsed": true
   },
   "outputs": [],
   "source": [
    "view = nglview.NGLWidget()\n",
    "# view.add_component(\"aligned_2kpb.pdb\")\n",
    "view.add_component(\"aligned_ver1.pdb\")\n",
    "view.add_component(\"2kpa.pdb\")\n",
    "# view.add_component(\"2kpa.pdb\")"
   ]
  },
  {
   "cell_type": "code",
   "execution_count": null,
   "metadata": {
    "collapsed": true
   },
   "outputs": [],
   "source": [
    "# view.add_component(\"2kpa.pdb\")\n"
   ]
  },
  {
   "cell_type": "code",
   "execution_count": null,
   "metadata": {
    "collapsed": true
   },
   "outputs": [],
   "source": [
    "# view.add_component(\"2kpa_atoms.pdb\")\n",
    "view"
   ]
  },
  {
   "cell_type": "code",
   "execution_count": null,
   "metadata": {
    "collapsed": true
   },
   "outputs": [],
   "source": [
    "view.add_cartoon(selection=\"protein\")\n",
    "view"
   ]
  },
  {
   "cell_type": "code",
   "execution_count": null,
   "metadata": {
    "collapsed": true
   },
   "outputs": [],
   "source": [
    "del view"
   ]
  },
  {
   "cell_type": "code",
   "execution_count": null,
   "metadata": {
    "collapsed": true
   },
   "outputs": [],
   "source": [
    "view = nglview.NGLWidget()\n",
    "# view.add_component(\"aligned_2kpb.pdb\")\n",
    "view.add_component(\"2kpa.pdb\")"
   ]
  },
  {
   "cell_type": "code",
   "execution_count": null,
   "metadata": {
    "collapsed": true
   },
   "outputs": [],
   "source": [
    "view"
   ]
  },
  {
   "cell_type": "code",
   "execution_count": 7,
   "metadata": {},
   "outputs": [
    {
     "name": "stderr",
     "output_type": "stream",
     "text": [
      "/Users/scl/anaconda3/lib/python3.6/site-packages/Bio/PDB/StructureBuilder.py:92: PDBConstructionWarning: WARNING: Chain A is discontinuous at line 11204.\n",
      "  PDBConstructionWarning,\n",
      "/Users/scl/anaconda3/lib/python3.6/site-packages/Bio/PDB/StructureBuilder.py:92: PDBConstructionWarning: WARNING: Chain B is discontinuous at line 11277.\n",
      "  PDBConstructionWarning,\n"
     ]
    }
   ],
   "source": [
    "protein_G1 = read_protein_pdb(\"6r4o.pdb\", \"G1\")\n",
    "protein_G2 = read_protein_pdb(\"6r3q.pdb\", \"G2\")"
   ]
  },
  {
   "cell_type": "code",
   "execution_count": null,
   "metadata": {
    "collapsed": true
   },
   "outputs": [],
   "source": [
    "def visualizeNGLview(fileNameProtein):\n",
    "    view = nglview.NGLWidget()\n",
    "    view.add_component(fileNameProtein)\n",
    "    \n",
    "    return view"
   ]
  },
  {
   "cell_type": "code",
   "execution_count": null,
   "metadata": {
    "collapsed": true
   },
   "outputs": [],
   "source": [
    "visualizeNGLview(\"6r4o.pdb\")"
   ]
  },
  {
   "cell_type": "code",
   "execution_count": null,
   "metadata": {
    "collapsed": true
   },
   "outputs": [],
   "source": [
    "visualizeNGLview(\"6r3q.pdb\").add_component(\"6r4o.pdb\")"
   ]
  },
  {
   "cell_type": "code",
   "execution_count": null,
   "metadata": {
    "collapsed": true
   },
   "outputs": [],
   "source": [
    "visualizeNGLview(\"6r3q.pdb\").add_component(\"6r4o.pdb\")"
   ]
  },
  {
   "cell_type": "code",
   "execution_count": null,
   "metadata": {
    "collapsed": true
   },
   "outputs": [],
   "source": [
    "view._display_image()"
   ]
  },
  {
   "cell_type": "code",
   "execution_count": 5,
   "metadata": {},
   "outputs": [
    {
     "data": {
      "text/plain": [
       "<nglview.component.ComponentViewer at 0x7fb5e9aafc88>"
      ]
     },
     "execution_count": 5,
     "metadata": {},
     "output_type": "execute_result"
    }
   ],
   "source": [
    "view = nglview.NGLWidget()\n",
    "# view.add_component(\"aligned_2kpb.pdb\")\n",
    "view.add_component(\"6r3q.pdb\")\n",
    "view.add_component(\"6r4o.pdb\")"
   ]
  },
  {
   "cell_type": "code",
   "execution_count": 6,
   "metadata": {},
   "outputs": [
    {
     "data": {
      "application/vnd.jupyter.widget-view+json": {
       "model_id": "353f05c16f784fe385c7e823d843fab2",
       "version_major": 2,
       "version_minor": 0
      },
      "text/plain": [
       "A Jupyter Widget"
      ]
     },
     "metadata": {},
     "output_type": "display_data"
    }
   ],
   "source": [
    "view"
   ]
  },
  {
   "cell_type": "code",
   "execution_count": 9,
   "metadata": {},
   "outputs": [
    {
     "name": "stdout",
     "output_type": "stream",
     "text": [
      "1183\n",
      "1182\n"
     ]
    }
   ],
   "source": [
    "atoms_ref = []\n",
    "for chain in protein_G1[0]:\n",
    "    for res in chain: \n",
    "        for atom in res: \n",
    "            if atom.get_name() == \"CA\":\n",
    "                atoms_ref.append(atom)\n",
    "print(len(atoms_ref))\n",
    "\n",
    "atoms_mov = []\n",
    "for chain in protein_G2[0]:\n",
    "    for res in chain: \n",
    "        for atom in res: \n",
    "            if atom.get_name() == \"CA\":\n",
    "                atoms_mov.append(atom)\n",
    "print(len(atoms_mov))"
   ]
  },
  {
   "cell_type": "code",
   "execution_count": 10,
   "metadata": {
    "collapsed": true
   },
   "outputs": [],
   "source": [
    "atoms_ref = atoms_ref[:len(atoms_mov)]"
   ]
  },
  {
   "cell_type": "code",
   "execution_count": 4,
   "metadata": {},
   "outputs": [
    {
     "name": "stderr",
     "output_type": "stream",
     "text": [
      "/Users/scl/anaconda3/lib/python3.6/site-packages/Bio/PDB/StructureBuilder.py:92: PDBConstructionWarning: WARNING: Chain A is discontinuous at line 14079.\n",
      "  PDBConstructionWarning,\n",
      "/Users/scl/anaconda3/lib/python3.6/site-packages/Bio/PDB/StructureBuilder.py:92: PDBConstructionWarning: WARNING: Chain C is discontinuous at line 14093.\n",
      "  PDBConstructionWarning,\n",
      "/Users/scl/anaconda3/lib/python3.6/site-packages/Bio/PDB/StructureBuilder.py:92: PDBConstructionWarning: WARNING: Chain D is discontinuous at line 14107.\n",
      "  PDBConstructionWarning,\n",
      "/Users/scl/anaconda3/lib/python3.6/site-packages/Bio/PDB/StructureBuilder.py:92: PDBConstructionWarning: WARNING: Chain E is discontinuous at line 14127.\n",
      "  PDBConstructionWarning,\n",
      "/Users/scl/anaconda3/lib/python3.6/site-packages/Bio/PDB/StructureBuilder.py:92: PDBConstructionWarning: WARNING: Chain F is discontinuous at line 14141.\n",
      "  PDBConstructionWarning,\n",
      "/Users/scl/anaconda3/lib/python3.6/site-packages/Bio/PDB/StructureBuilder.py:92: PDBConstructionWarning: WARNING: Chain G is discontinuous at line 14147.\n",
      "  PDBConstructionWarning,\n",
      "/Users/scl/anaconda3/lib/python3.6/site-packages/Bio/PDB/StructureBuilder.py:92: PDBConstructionWarning: WARNING: Chain B is discontinuous at line 14161.\n",
      "  PDBConstructionWarning,\n",
      "/Users/scl/anaconda3/lib/python3.6/site-packages/Bio/PDB/StructureBuilder.py:92: PDBConstructionWarning: WARNING: Chain G is discontinuous at line 14163.\n",
      "  PDBConstructionWarning,\n",
      "/Users/scl/anaconda3/lib/python3.6/site-packages/Bio/PDB/StructureBuilder.py:92: PDBConstructionWarning: WARNING: Chain C is discontinuous at line 14177.\n",
      "  PDBConstructionWarning,\n",
      "/Users/scl/anaconda3/lib/python3.6/site-packages/Bio/PDB/StructureBuilder.py:92: PDBConstructionWarning: WARNING: Chain F is discontinuous at line 14178.\n",
      "  PDBConstructionWarning,\n",
      "/Users/scl/anaconda3/lib/python3.6/site-packages/Bio/PDB/StructureBuilder.py:92: PDBConstructionWarning: WARNING: Chain H is discontinuous at line 14179.\n",
      "  PDBConstructionWarning,\n",
      "/Users/scl/anaconda3/lib/python3.6/site-packages/Bio/PDB/StructureBuilder.py:92: PDBConstructionWarning: WARNING: Chain G is discontinuous at line 14193.\n",
      "  PDBConstructionWarning,\n",
      "/Users/scl/anaconda3/lib/python3.6/site-packages/Bio/PDB/StructureBuilder.py:92: PDBConstructionWarning: WARNING: Chain H is discontinuous at line 14195.\n",
      "  PDBConstructionWarning,\n"
     ]
    }
   ],
   "source": [
    "protein_HLA1 = read_protein_pdb(\"4i0p.pdb\", \"HLA1\")\n",
    "protein_HLA2 = read_protein_pdb(\"1hdm.pdb\", \"HLA2\")"
   ]
  },
  {
   "cell_type": "code",
   "execution_count": 5,
   "metadata": {},
   "outputs": [
    {
     "name": "stdout",
     "output_type": "stream",
     "text": [
      "1488\n",
      "367\n"
     ]
    }
   ],
   "source": [
    "atoms_ref = []\n",
    "for chain in protein_HLA1[0]:\n",
    "    for res in chain: \n",
    "        for atom in res: \n",
    "            if atom.get_name() == \"CA\":\n",
    "                atoms_ref.append(atom)\n",
    "print(len(atoms_ref))\n",
    "\n",
    "atoms_mov = []\n",
    "for chain in protein_HLA2[0]:\n",
    "    for res in chain: \n",
    "        for atom in res: \n",
    "            if atom.get_name() == \"CA\":\n",
    "                atoms_mov.append(atom)\n",
    "print(len(atoms_mov))"
   ]
  },
  {
   "cell_type": "code",
   "execution_count": null,
   "metadata": {
    "collapsed": true
   },
   "outputs": [],
   "source": []
  }
 ],
 "metadata": {
  "kernelspec": {
   "display_name": "Python 3",
   "language": "python",
   "name": "python3"
  },
  "language_info": {
   "codemirror_mode": {
    "name": "ipython",
    "version": 3
   },
   "file_extension": ".py",
   "mimetype": "text/x-python",
   "name": "python",
   "nbconvert_exporter": "python",
   "pygments_lexer": "ipython3",
   "version": "3.6.2"
  }
 },
 "nbformat": 4,
 "nbformat_minor": 2
}
