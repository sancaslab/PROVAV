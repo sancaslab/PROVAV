{
 "cells": [
  {
   "cell_type": "markdown",
   "metadata": {
    "collapsed": true
   },
   "source": [
    "# PROVAV DOCUMENTATION\n",
    "**Authors**: Sandra Castro Labrador,  Mª Rocío Valderrama Palacios "
   ]
  },
  {
   "cell_type": "markdown",
   "metadata": {},
   "source": [
    "## Contents Index\n",
    "* [1. Introduction](#sec_1)\n",
    "* [2. PDB files lecture](#sec_2)\n",
    "\n",
    "    - [PDB file lecture](#sec_2_1)\n",
    "    - [CIF file lecture](#sec_2_2)\n",
    "    \n",
    "* [3. Measures of sequences similarity](#sec_3)\n",
    "\n",
    "    - [Root mean squared deviation](#sec_3_1)\n",
    "    - [TM score](#sec_3_2)\n",
    "    \n",
    "* [4. 3D protein visualization](#sec_4)\n",
    "* [5. Sources](#sec_5)\n"
   ]
  },
  {
   "cell_type": "markdown",
   "metadata": {},
   "source": [
    "# 1. INTRODUCTION <a name=\"sec_1\"/>"
   ]
  },
  {
   "cell_type": "markdown",
   "metadata": {
    "collapsed": true
   },
   "source": [
    "The goal of this proyect is to use biopython to read different types of protein files, turn the data into Bio.PDB.Structure objects and, given two proteins, see the diferences between them measuring their sequence similarity via root mean squared deviation a TM score. Aditionally, we have chosen to visualize the 3D structure of the proteins using the nglview module."
   ]
  },
  {
   "cell_type": "markdown",
   "metadata": {},
   "source": [
    "# 2. PDB FILES LECTURE <a name=\"sec_2\"/>"
   ]
  },
  {
   "cell_type": "markdown",
   "metadata": {},
   "source": [
    "## 2.1 PDB files lecture <a name=\"sec_2_1\"/>"
   ]
  },
  {
   "cell_type": "markdown",
   "metadata": {
    "collapsed": true
   },
   "source": [
    "PDB(Protein Data Bank) offers a variety of options to download protein files: from fasta to XML. We have chosen to work with .pbd and .mmcif files, beacause those are the most used extentions when working with protein data. Eventhough the structure of this two formats differs, the information contained is practically the same."
   ]
  },
  {
   "cell_type": "raw",
   "metadata": {},
   "source": [
    "An example of .pdb file:\n",
    "HEADER CELL ADHESION 20-APR-20 6YRK\n",
    "TITLE P140-P110 COMPLEX FITTED INTO THE CRYO-ELECTRON DENSITY MAP OF THE\n",
    "TITLE 2 HETERODIMER\n",
    "COMPND MOL_ID: 1;\n",
    "COMPND 2 MOLECULE: MGP-OPERON PROTEIN 3;\n",
    "COMPND 3 CHAIN: A;\n",
    "COMPND 4 SYNONYM: MGP3,ORF-3 PROTEIN;\n",
    "COMPND 5 ENGINEERED: YES;\n",
    "COMPND 6 MOL_ID: 2;\n",
    "COMPND 7 MOLECULE: ADHESIN P1;\n",
    "COMPND 8 CHAIN: B;\n",
    "COMPND 9 SYNONYM: ATTACHMENT PROTEIN,CYTADHESIN P1,MGPA;\n",
    "...\n",
    "To read these files we use the PDBParser module from Bio.PDB"
   ]
  },
  {
   "cell_type": "code",
   "execution_count": 1,
   "metadata": {
    "collapsed": true
   },
   "outputs": [],
   "source": [
    "from Bio.PDB import PDBParser\n",
    "\n",
    "def pbdReader(self, name, file):\n",
    "    try:\n",
    "        parser = PDBParser(PERMISSIVE=1)\n",
    "        structure = parser.get_structure(name, file)\n",
    "        return structure\n",
    "    except:\n",
    "        print(\"Something went wrong: File not found\")"
   ]
  },
  {
   "cell_type": "markdown",
   "metadata": {},
   "source": [
    "This function returns a Structure object made with the data from the pdb file"
   ]
  },
  {
   "cell_type": "markdown",
   "metadata": {},
   "source": [
    "## 2.1 CIF files lecture <a name=\"sec_2_2\"/>"
   ]
  },
  {
   "cell_type": "raw",
   "metadata": {},
   "source": [
    "An exple of CIF file:\n",
    "data_6YRK\n",
    "'#'\n",
    "_entry.id 6YRK\n",
    "'#'\n",
    "_audit_conform.dict_name mmcif_pdbx.dic\n",
    "_audit_conform.dict_version 5.326\n",
    "_audit_conform.dict_location http://mmcif.pdb.org/dictionaries/ascii/mmcif_pdbx.dic\n",
    "'#'\n",
    "loop_\n",
    "_database_2.database_id\n",
    "_database_2.database_code\n",
    "PDB 6YRK\n",
    "WWPDB D_1292108150\n",
    "EMDB EMD-10890\n",
    "'#'\n",
    "loop_\n",
    "_pdbx_database_related.db_name\n",
    "_pdbx_database_related.details\n",
    "_pdbx_database_related.db_id\n",
    "...\n",
    "To read these files we use the MMCIFParser module from Bio.PDB"
   ]
  },
  {
   "cell_type": "code",
   "execution_count": 2,
   "metadata": {
    "collapsed": true
   },
   "outputs": [],
   "source": [
    "from Bio.PDB import MMCIFParser\n",
    "def cifReader(self, name, file):\n",
    "    try:\n",
    "        parser = MMCIFParser()\n",
    "        structure = parser.get_structure(name, file)\n",
    "        return structure\n",
    "    except:\n",
    "        print(\"Something went wrong: File not found\")"
   ]
  },
  {
   "cell_type": "markdown",
   "metadata": {},
   "source": [
    "This function returns a Structure object made with the data from the pdb file, just like the previous one did with the pdb files\n"
   ]
  },
  {
   "cell_type": "markdown",
   "metadata": {},
   "source": [
    "# 3. MEASURES OF SEQUENCES SIMILARITY <a name=\"sec_3\"/>"
   ]
  },
  {
   "cell_type": "markdown",
   "metadata": {},
   "source": [
    "We have choosen two similarity measurement values in order to get an idea of structures from selected proteins, possibly changes between these structures. \n",
    "The objective is to obtain root mean squared deviation with some module from **BioPython** based on information we get with **PDB** proteins files (PDB Module). Moreover we want to obtain other important value to comparise structures, that is tm-score, with a different python package we have also intalled. To compare our results with accurate values: on the one hand we have download **PyMol**, software to get some RMSD values, on the other hand we have used online software **TM-score** to get values of tm obtained from concrete structures proteins."
   ]
  },
  {
   "cell_type": "markdown",
   "metadata": {},
   "source": [
    "## 3.1 Root Mean Squared Deviation <a name=\"sec_3_1\"/>"
   ]
  },
  {
   "cell_type": "markdown",
   "metadata": {},
   "source": [
    "**What is RMSD?**\n",
    "Is a commonly used measure of the average distance between the atoms of two superimposed structures. The equation for calculating RMSD is:"
   ]
  },
  {
   "cell_type": "markdown",
   "metadata": {},
   "source": [
    "\\begin{align}\n",
    "\\dot{RMSD} & = \\sqrt{{1\\over N} \\sum_{k=1}^N \\delta _i^2}\n",
    "\\end{align} "
   ]
  },
  {
   "cell_type": "markdown",
   "metadata": {},
   "source": [
    "N is the number of atoms to be aligned. We measure squared difference between the positions of the atom, coordinates of them. This measure is useful when we have two conformations of the same molecule, or parts of the this. It needs the same number of atoms in both structures, so in different proteins this measure can change depends on atoms selections. "
   ]
  },
  {
   "cell_type": "markdown",
   "metadata": {},
   "source": [
    "When comparing structures this way, one array of atoms (we can call then move atoms) is translated and rotated with respect to reference atoms. The final orientation choosen for this comparison is the one that minimizes the RMSD between the two structures. The smaller the RMSD is between two structures, more similarity exits between them."
   ]
  },
  {
   "cell_type": "markdown",
   "metadata": {},
   "source": [
    "### Biopython module used"
   ]
  },
  {
   "cell_type": "markdown",
   "metadata": {},
   "source": [
    "To get this value we have choosen **Bio.SVDSuperimposer** module from BioPython. We have tested some modules like QCPSuperimposer, however selected class calculates the most exact values between proteins which with we have proved these features. The basic code is easy to apply. We have to get atoms coordinates from PDB files and the class *SVDSuperimposer()* will apply the superimposer and gets the RMSD value. It also provides initial value to compare with the final results. "
   ]
  },
  {
   "cell_type": "markdown",
   "metadata": {},
   "source": [
    "In PDB file structure we found different models proteins, with chains, residues and atoms. With the aim of achieving the best value with this module, we have created different functions and methods to get the best rmsd from all models we found in structures. So we select the minimun RMSD. We have tested with different kind of proteins and isoforms, so there are some cases that the number of atoms isn't the same in the two structures. We have matched the arrays to observe the results, and there are some variations. For this, this method is more optimal with isoforms proteins. "
   ]
  },
  {
   "cell_type": "markdown",
   "metadata": {},
   "source": [
    "## 3.2 TM Score <a name=\"sec_3_2\"/>"
   ]
  },
  {
   "cell_type": "markdown",
   "metadata": {},
   "source": [
    "We have complemented previous idea with tm score. We have found a python package, **tmscoring**, that provides good results. We get very similar values compared to TM-score results.\n",
    "This scoring function assess the similarity of protein structures."
   ]
  },
  {
   "cell_type": "markdown",
   "metadata": {},
   "source": [
    "This function makes the score value more sensitive to the global fold similarity than to the local structural variations and provides normalize distances. TM-score has the value in (0,1], where 1 indicates a perfect match between two structures. It's based on statistic: \n",
    "- 0.0 < TM-score < 0.17 : random structural similarity                 \n",
    "- 0.5 < TM-score < 1.00 : in about the same fold   \n",
    "\n",
    "We have get coherence results in a very optimal way. This function has like parameters PDB files of proteins, so we haven't made any selection, so the results may be more accurate.\n"
   ]
  },
  {
   "cell_type": "markdown",
   "metadata": {},
   "source": [
    "## 4. 3D PROTEIN VISUALIZATION <a name=\"sec_4\"/>"
   ]
  },
  {
   "cell_type": "markdown",
   "metadata": {},
   "source": [
    "We have used NGLview to see 3D proteins structures. We have combined previous alignment with **Bio.PDB.Superimposer()** to show protein superimposer and see clear differences. Also we have used **Bio.PDB.PDBIO()** to create new PDB files with alignments and atom structures. "
   ]
  },
  {
   "cell_type": "markdown",
   "metadata": {},
   "source": [
    "For the visualization of Jupiter Widget of proteins 3D structures, in this case is necessary to have the installation of **NGLview**:\n",
    "- conda install -c conda-forge nglview or conda upgrade nglview --force\n",
    "- pip install nglview\n",
    "- might need: jupyter-nbextension enable nglview --py --sys-prefix\n"
   ]
  },
  {
   "cell_type": "code",
   "execution_count": 2,
   "metadata": {},
   "outputs": [
    {
     "data": {
      "application/vnd.jupyter.widget-view+json": {
       "model_id": "ce31f38008d443a093c5401602271a39",
       "version_major": 2,
       "version_minor": 0
      },
      "text/plain": [
       "A Jupyter Widget"
      ]
     },
     "metadata": {},
     "output_type": "display_data"
    }
   ],
   "source": [
    "# VISUALIZATION FUNCTION\n",
    "import nglview\n",
    "def visualizeNGLview(fileNameProtein):\n",
    "    view = nglview.NGLWidget()\n",
    "    view.add_component(fileNameProtein)\n",
    "    \n",
    "    return view"
   ]
  },
  {
   "cell_type": "code",
   "execution_count": 3,
   "metadata": {
    "collapsed": true
   },
   "outputs": [],
   "source": [
    "# Function for get structure -> its needed for some visualization\n",
    "from Bio.PDB.PDBParser import PDBParser\n",
    "def read_protein_pdb(file: str, proteinId: str):\n",
    "    \n",
    "    parser = PDBParser(PERMISSIVE=1)\n",
    "    structure: Structure = parser.get_structure(proteinId, file)\n",
    "\n",
    "    return structure"
   ]
  },
  {
   "cell_type": "markdown",
   "metadata": {},
   "source": [
    "### 2PKA & 2PKB (V-ATPase a2-subunit isoforms)\n",
    "We get a similar display from pyMol thanks to alignment of atoms with Bio.PDB.Superimposer: We have set the atoms and apply superimposer to one of the structures. We save the result in a new PDB and we compare it with the other structure. "
   ]
  },
  {
   "cell_type": "code",
   "execution_count": 4,
   "metadata": {},
   "outputs": [
    {
     "data": {
      "application/vnd.jupyter.widget-view+json": {
       "model_id": "b4da523e0cef44eab9f1f2dda1febff6",
       "version_major": 2,
       "version_minor": 0
      },
      "text/plain": [
       "A Jupyter Widget"
      ]
     },
     "metadata": {},
     "output_type": "display_data"
    }
   ],
   "source": [
    "import nglview\n",
    "view = nglview.NGLWidget()\n",
    "view.add_component(\"aligned_ver1.pdb\")\n",
    "view.add_component(\"2kpb.pdb\")\n",
    "view"
   ]
  },
  {
   "cell_type": "markdown",
   "metadata": {},
   "source": [
    "### Creatine Kinase from Human Muscle & Creatine Kinase from Human Brain"
   ]
  },
  {
   "cell_type": "code",
   "execution_count": 5,
   "metadata": {},
   "outputs": [
    {
     "data": {
      "application/vnd.jupyter.widget-view+json": {
       "model_id": "b38c49fb8b13472180c91b11869e3cff",
       "version_major": 2,
       "version_minor": 0
      },
      "text/plain": [
       "A Jupyter Widget"
      ]
     },
     "metadata": {},
     "output_type": "display_data"
    }
   ],
   "source": [
    "visualizeNGLview(\"G2_aligned.pdb\")"
   ]
  },
  {
   "cell_type": "markdown",
   "metadata": {},
   "source": [
    "Two proteins with high RMSD, so the similarity between these structures is lower."
   ]
  },
  {
   "cell_type": "markdown",
   "metadata": {},
   "source": [
    "### Human Leukocyte Antigen"
   ]
  },
  {
   "cell_type": "code",
   "execution_count": 6,
   "metadata": {},
   "outputs": [
    {
     "data": {
      "application/vnd.jupyter.widget-view+json": {
       "model_id": "0d516deab9c5484b9f75f212d470fba1",
       "version_major": 2,
       "version_minor": 0
      },
      "text/plain": [
       "A Jupyter Widget"
      ]
     },
     "metadata": {},
     "output_type": "display_data"
    }
   ],
   "source": [
    "# HLA complex \n",
    "visualizeNGLview(\"4i0p.pdb\")"
   ]
  },
  {
   "cell_type": "code",
   "execution_count": 10,
   "metadata": {},
   "outputs": [
    {
     "data": {
      "application/vnd.jupyter.widget-view+json": {
       "model_id": "24143470e8884850a7b453a9bd351d2b",
       "version_major": 2,
       "version_minor": 0
      },
      "text/plain": [
       "A Jupyter Widget"
      ]
     },
     "metadata": {},
     "output_type": "display_data"
    }
   ],
   "source": [
    "# Concrete antigen alignment with HLA complex\n",
    "view_2 = nglview.NGLWidget()\n",
    "view_2.add_component(\"4i0p.pdb\")\n",
    "view_2.add_component(\"align_ver2.pdb\")\n",
    "view_2.add_licorice('ALA, GLU')\n",
    "view_2"
   ]
  },
  {
   "cell_type": "markdown",
   "metadata": {},
   "source": [
    "The histocompatibility antigen fit with HLA complex. We can appreciate the new zone blue that appear with the alignment we have calculated. We have tested high TM score and low RMSD. "
   ]
  },
  {
   "cell_type": "markdown",
   "metadata": {},
   "source": [
    "**Example of alignment code:**"
   ]
  },
  {
   "cell_type": "markdown",
   "metadata": {},
   "source": [
    "![caption](files/image1.png)"
   ]
  },
  {
   "cell_type": "markdown",
   "metadata": {},
   "source": [
    "### Cool representation of BRCA1 "
   ]
  },
  {
   "cell_type": "code",
   "execution_count": null,
   "metadata": {
    "collapsed": true
   },
   "outputs": [],
   "source": [
    "struct = nglview.PdbIdStructure(\"6GVW\")\n",
    "\n",
    "initial_repr = [\n",
    "    {\"type\": \"licorice\", \"params\": {\n",
    "        \"sele\": \"atoms\", \"color\": \"residueindex\"\n",
    "    }}\n",
    "]\n",
    "\n",
    "view_3 = nglview.NGLWidget(struct, representations = initial_repr)\n",
    "view_3.add_licorice('ALA, GLU')\n",
    "view_3\n"
   ]
  },
  {
   "cell_type": "code",
   "execution_count": 9,
   "metadata": {},
   "outputs": [
    {
     "data": {
      "application/vnd.jupyter.widget-view+json": {
       "model_id": "848bc19871c04f788d32e7b7bc783b0c",
       "version_major": 2,
       "version_minor": 0
      },
      "text/plain": [
       "A Jupyter Widget"
      ]
     },
     "metadata": {},
     "output_type": "display_data"
    }
   ],
   "source": [
    "visualizeNGLview(\"6gvw.pdb\")"
   ]
  },
  {
   "cell_type": "markdown",
   "metadata": {},
   "source": [
    "## 5. SOURCES  <a name=\"sec_5\"/>"
   ]
  },
  {
   "cell_type": "markdown",
   "metadata": {},
   "source": [
    "### PyMol"
   ]
  },
  {
   "cell_type": "markdown",
   "metadata": {},
   "source": [
    "We have obtained accurate RMSD values from PyMol. 3D protein structures have high quality and resolution"
   ]
  },
  {
   "cell_type": "markdown",
   "metadata": {
    "collapsed": true
   },
   "source": [
    "![caption](files/image2.png)"
   ]
  },
  {
   "cell_type": "markdown",
   "metadata": {},
   "source": [
    "### TM-SCORE"
   ]
  },
  {
   "cell_type": "markdown",
   "metadata": {},
   "source": [
    "![caption](files/image3.png)"
   ]
  },
  {
   "cell_type": "markdown",
   "metadata": {
    "collapsed": true
   },
   "source": [
    "### BioPython Tutorial:  The PDB Module"
   ]
  }
 ],
 "metadata": {
  "kernelspec": {
   "display_name": "Python 3",
   "language": "python",
   "name": "python3"
  },
  "language_info": {
   "codemirror_mode": {
    "name": "ipython",
    "version": 3
   },
   "file_extension": ".py",
   "mimetype": "text/x-python",
   "name": "python",
   "nbconvert_exporter": "python",
   "pygments_lexer": "ipython3",
   "version": "3.6.2"
  }
 },
 "nbformat": 4,
 "nbformat_minor": 2
}
