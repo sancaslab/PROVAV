{
 "cells": [
  {
   "cell_type": "markdown",
   "metadata": {
    "collapsed": true
   },
   "source": [
    "# PROVAV DOCUMENTATION\n",
    "**Authors**: Sandra Castro Labrador,  Mª Rocío Valderrama Palacios "
   ]
  },
  {
   "cell_type": "markdown",
   "metadata": {},
   "source": [
    "## Contents Index\n",
    "* [1. Introduction](#sec_1)\n",
    "* [2. PDB files lecture](#sec_2)\n",
    "* [3. Measures of sequences similarity](#sec_3)\n",
    "\n",
    "    - [Root mean squared deviation](#sec_3_1)\n",
    "    - [TM score](#sec_3_2)\n",
    "    \n",
    "* [4. 3D protein visualization](#sec_4)\n",
    "* [5. Resources](#sec_5)\n"
   ]
  },
  {
   "cell_type": "markdown",
   "metadata": {},
   "source": [
    "# 1. INTRODUCTION <a name=\"sec_1\"/>"
   ]
  },
  {
   "cell_type": "markdown",
   "metadata": {},
   "source": [
    "# 2. PDB FILES LECTURE <a name=\"sec_2\"/>"
   ]
  },
  {
   "cell_type": "markdown",
   "metadata": {},
   "source": [
    "# 3. MEASURES OF SEQUENCES SIMILARITY <a name=\"sec_3\"/>"
   ]
  },
  {
   "cell_type": "markdown",
   "metadata": {},
   "source": [
    "We have chosen two similarity measurement values in order to get an idea of structures of selected proteins, possibly changes between these structures. \n",
    "The objective is to obtain root mean squared deviation with some module from **BioPython** based on information we get with **PDB** proteins files. Moreover we want to obtain other important value to comparise structures, that is tm-score, with a different python package we have also intalled. To compare our results with accurate values: on the one hand we have download **PyMol** software to get some RMSD values, on the other hand we have used online software **TM-score** to get values of tm obtained from concrete structures proteins."
   ]
  },
  {
   "cell_type": "markdown",
   "metadata": {},
   "source": [
    "## 3.1 Root Mean Squared Deviation <a name=\"sec_3_1\"/>"
   ]
  },
  {
   "cell_type": "markdown",
   "metadata": {},
   "source": [
    "**What is RMSD?**\n",
    "Is a commonly used measure of the average distance between the atoms of two superimposed structures. The equation for calculating RMSD is:"
   ]
  },
  {
   "cell_type": "markdown",
   "metadata": {},
   "source": [
    "\\begin{align}\n",
    "\\dot{RMSD} & = \\sqrt{{1\\over N} \\sum_{k=1}^N \\delta _i^2}\n",
    "\\end{align} "
   ]
  },
  {
   "cell_type": "markdown",
   "metadata": {},
   "source": [
    "N is the number of atoms to be aligned. We measure squared difference between the positions of the atom, coordinates of them. This measure is useful when we have two conformations of the same molecule, or parts of the same molecule. It needs the same number of atoms in both structures, so in different proteins this measure can change depends on atoms selections. "
   ]
  },
  {
   "cell_type": "markdown",
   "metadata": {},
   "source": [
    "When comparing structures this way, one array of atoms (we can call then move atoms) is translated and rotated with respect to the other (reference atoms). The final orientation chosen for this comparison is the one that minimizes the RMSD between the two structures. The smaller the RMSD is between two structures, more similarity exits between them."
   ]
  },
  {
   "cell_type": "markdown",
   "metadata": {},
   "source": [
    "### Biopython module used"
   ]
  },
  {
   "cell_type": "markdown",
   "metadata": {},
   "source": [
    "To get this value we have choosen **Bio.SVDSuperimposer** module from BioPython. We have tested some modules like QCPSuperimposer, however selected class calculates the most exact values between proteins which with we have tested these features. The basic code is easy to apply. We have to get atoms coordinates from PDB files and the class *SVDSuperimposer()* will apply the superimposer and gets the RMSD value. It also provides initial value to compare with the final result. "
   ]
  },
  {
   "cell_type": "markdown",
   "metadata": {},
   "source": [
    "In PDB file structure we found different models proteins, with chain, residues and atoms. With the aim of achieving the best value with this module, we have create different functions and methods to get the best rmsd from all the models we found in structures. So we select the minimun RMSD. We have tested with different kind of proteins and isoforms proteins, so there are some cases that the number of atoms isn't the same in the two structures. We have matched the arrays to observe the results, and there are some variations. For that, this method is more optimal with isoforms proteins. "
   ]
  },
  {
   "cell_type": "markdown",
   "metadata": {},
   "source": [
    "## 3.2 TM Score <a name=\"sec_3_2\"/>"
   ]
  },
  {
   "cell_type": "markdown",
   "metadata": {},
   "source": [
    "We have complemented previous idea with tm score. We have found a python package, **tmscoring**, that provides very good results. We get very similar values compared to TM-score results.\n",
    "This scoring function that assess the similarity of protein structures, "
   ]
  },
  {
   "cell_type": "markdown",
   "metadata": {},
   "source": [
    "This function makes the score value more sensitive to the global fold similarity than to the local structural variations and provides normalize distances. TM-score has the value in (0,1], where 1 indicates a perfect match between two structures. It's based on statistic: \n",
    "- 0.0 < TM-score < 0.17 : random structural similarity                 \n",
    "- 0.5 < TM-score < 1.00 : in about the same fold   \n",
    "\n",
    "We have get coherence results and in a very optimal way. This function has like parameters PDB files of proteins, so we haven't make any selection, so the results may be more accurate.\n"
   ]
  },
  {
   "cell_type": "markdown",
   "metadata": {},
   "source": [
    "## 3D PROTEIN VISUALIZATION "
   ]
  },
  {
   "cell_type": "markdown",
   "metadata": {},
   "source": [
    "We have used NGLview to see 3D proteins structures. We have combined previous alignment with **Bio.PDB.Superimposer()** to show protein superimposer and see clear differences. Also we have used **Bio.PDB.PDBIO()** to create new PDB files with alignments and atom structures. "
   ]
  },
  {
   "cell_type": "markdown",
   "metadata": {},
   "source": [
    "For the visualization of Jupiter Widget of proteins 3D structures, in this case is necessary to have the installation of **NGLview**:\n",
    "- conda install -c conda-forge nglview or conda upgrade nglview --force\n",
    "- pip install nglview\n",
    "- might need: jupyter-nbextension enable nglview --py --sys-prefix\n"
   ]
  },
  {
   "cell_type": "code",
   "execution_count": 2,
   "metadata": {},
   "outputs": [
    {
     "data": {
      "application/vnd.jupyter.widget-view+json": {
       "model_id": "a797559d2dd1444fbd540ed1d15f28a7",
       "version_major": 2,
       "version_minor": 0
      },
      "text/plain": [
       "A Jupyter Widget"
      ]
     },
     "metadata": {},
     "output_type": "display_data"
    }
   ],
   "source": [
    "# VISUALIZATION FUNCTION\n",
    "import nglview\n",
    "def visualizeNGLview(fileNameProtein):\n",
    "    view = nglview.NGLWidget()\n",
    "    view.add_component(fileNameProtein)\n",
    "    \n",
    "    return view"
   ]
  },
  {
   "cell_type": "code",
   "execution_count": 8,
   "metadata": {
    "collapsed": true
   },
   "outputs": [],
   "source": [
    "# Function for get structure -> its needed for some visualization\n",
    "from Bio.PDB.PDBParser import PDBParser\n",
    "def read_protein_pdb(file: str, proteinId: str):\n",
    "    \n",
    "    parser = PDBParser(PERMISSIVE=1)\n",
    "    structure: Structure = parser.get_structure(proteinId, file)\n",
    "\n",
    "    return structure"
   ]
  },
  {
   "cell_type": "markdown",
   "metadata": {},
   "source": [
    "### 2PKA & 2PKB (V-ATPase a2-subunit isoforms)\n",
    "We get a similar display from pyMol thanks to alignment of atoms with Bio.PDB.Superimposer: We have set the atoms and apply superimposer to one of the structures. We save the result in a new PDB and we compare it with the other structure. "
   ]
  },
  {
   "cell_type": "code",
   "execution_count": 5,
   "metadata": {},
   "outputs": [
    {
     "data": {
      "application/vnd.jupyter.widget-view+json": {
       "model_id": "65f2aa3ec2ea4b4f8a1f5fd9a45795fb",
       "version_major": 2,
       "version_minor": 0
      },
      "text/plain": [
       "A Jupyter Widget"
      ]
     },
     "metadata": {},
     "output_type": "display_data"
    }
   ],
   "source": [
    "import nglview\n",
    "view = nglview.NGLWidget()\n",
    "view.add_component(\"aligned_ver1.pdb\")\n",
    "view.add_component(\"2kpb.pdb\")\n",
    "view"
   ]
  },
  {
   "cell_type": "markdown",
   "metadata": {},
   "source": [
    "### Creatine Kinase from Human Muscle & Creatine Kinase from Human Brain"
   ]
  },
  {
   "cell_type": "code",
   "execution_count": 6,
   "metadata": {},
   "outputs": [
    {
     "data": {
      "application/vnd.jupyter.widget-view+json": {
       "model_id": "d341b87f35024268b5968936f1b9c98d",
       "version_major": 2,
       "version_minor": 0
      },
      "text/plain": [
       "A Jupyter Widget"
      ]
     },
     "metadata": {},
     "output_type": "display_data"
    }
   ],
   "source": [
    "visualizeNGLview(\"G2_aligned.pdb\")"
   ]
  },
  {
   "cell_type": "markdown",
   "metadata": {},
   "source": [
    "Two proteins with high RMSD, so the similarity between these structures is lower."
   ]
  },
  {
   "cell_type": "code",
   "execution_count": 24,
   "metadata": {},
   "outputs": [
    {
     "data": {
      "application/vnd.jupyter.widget-view+json": {
       "model_id": "d43fc581227942aa982205d6d58c26db",
       "version_major": 2,
       "version_minor": 0
      },
      "text/plain": [
       "A Jupyter Widget"
      ]
     },
     "metadata": {},
     "output_type": "display_data"
    }
   ],
   "source": [
    "visualizeNGLview(\"4i0p.pdb\")"
   ]
  },
  {
   "cell_type": "code",
   "execution_count": 25,
   "metadata": {},
   "outputs": [
    {
     "data": {
      "application/vnd.jupyter.widget-view+json": {
       "model_id": "838a5b39276c42d89f104c09f4447245",
       "version_major": 2,
       "version_minor": 0
      },
      "text/plain": [
       "A Jupyter Widget"
      ]
     },
     "metadata": {},
     "output_type": "display_data"
    }
   ],
   "source": [
    "visualizeNGLview(\"/Users/scl/Desktop/PAB/1hdm.pdb\")"
   ]
  },
  {
   "cell_type": "code",
   "execution_count": 9,
   "metadata": {},
   "outputs": [],
   "source": [
    "# struct_1 = read_protein_pdb(\"G2_aligned.pdb\", \"G2_protein\")"
   ]
  },
  {
   "cell_type": "code",
   "execution_count": null,
   "metadata": {},
   "outputs": [],
   "source": [
    "struct = nglview.PdbIdStructure(\"3B6R\")\n",
    "\n",
    "initial_repr = [\n",
    "    {\"type\": \"cartoon\", \"params\": {\n",
    "        \"sele\": \"atoms\", \"color\": \"residueindex\"\n",
    "    }}\n",
    "]\n",
    "viewer = nglview.NGLWidget(struct, representations = initial_repr)\n",
    "viewer"
   ]
  },
  {
   "cell_type": "code",
   "execution_count": 19,
   "metadata": {
    "collapsed": true
   },
   "outputs": [],
   "source": [
    "del viewer"
   ]
  },
  {
   "cell_type": "code",
   "execution_count": 22,
   "metadata": {},
   "outputs": [
    {
     "data": {
      "application/vnd.jupyter.widget-view+json": {
       "model_id": "597412424c194e1294589e92825cebbc",
       "version_major": 2,
       "version_minor": 0
      },
      "text/plain": [
       "A Jupyter Widget"
      ]
     },
     "metadata": {},
     "output_type": "display_data"
    }
   ],
   "source": [
    "view_2 = nglview.NGLWidget()\n",
    "view_2.add_component(\"G2_aligned.pdb\")\n",
    "# view.add_surface(selection=\"protein\", opacity=0.2)\n",
    "view_2"
   ]
  },
  {
   "cell_type": "code",
   "execution_count": 23,
   "metadata": {},
   "outputs": [
    {
     "data": {
      "application/vnd.jupyter.widget-view+json": {
       "model_id": "597412424c194e1294589e92825cebbc",
       "version_major": 2,
       "version_minor": 0
      },
      "text/plain": [
       "A Jupyter Widget"
      ]
     },
     "metadata": {},
     "output_type": "display_data"
    }
   ],
   "source": [
    "# view.add_representation(repr_type='cartoon', selection='protein')\n",
    "\n",
    "# view.add_cartoon(selection=\"protein\")\n",
    "# view.add_surface(selection=\"protein\", opacity=0.2)\n",
    "view_2.add_surface(component=1, color='blue', wireframe=True, opacity=0.2, isolevel=3.)\n",
    "view_2\n",
    "\n",
    "# specify color\n",
    "# view.add_cartoon(selection=\"protein\", color='blue')\n",
    "\n",
    "# specify residue\n",
    "#view.add_licorice('ALA, GLU')\n",
    "# clear representations\n",
    "#view.clear_representations()"
   ]
  },
  {
   "cell_type": "code",
   "execution_count": 9,
   "metadata": {
    "collapsed": true
   },
   "outputs": [],
   "source": [
    "del view_2"
   ]
  },
  {
   "cell_type": "code",
   "execution_count": 8,
   "metadata": {},
   "outputs": [
    {
     "data": {
      "application/vnd.jupyter.widget-view+json": {
       "model_id": "abd3eeee2f1a402891cb509129f70678",
       "version_major": 2,
       "version_minor": 0
      },
      "text/plain": [
       "A Jupyter Widget"
      ]
     },
     "metadata": {},
     "output_type": "display_data"
    }
   ],
   "source": [
    "import nglview\n",
    "view = nglview.NGLWidget()\n",
    "view.add_component(\"4i0p.pdb\")\n",
    "view"
   ]
  },
  {
   "cell_type": "code",
   "execution_count": null,
   "metadata": {},
   "outputs": [],
   "source": [
    "view_2 = nglview.NGLWidget()\n",
    "view_2.add_component(\"G2_aligned.pdb\")\n",
    "\n",
    "initial_repr = [\n",
    "    {\"type\": \"line\", \"params\": {\n",
    "        \"sele\": \"protein\", \"color\": \"residueindex\"\n",
    "    }}\n",
    "]\n",
    "view_2.add_representation(initial_repr)\n",
    "# view.add_representation('licorice', selection='not hydrogen')\n",
    "view_2\n",
    "\n",
    "#\n",
    "#struct = nv.adaptor.FileStructure(nv.datafiles.PDB)\n",
    "\n",
    "\n",
    "#viewer = nv.NGLWidget(struct, representations = initial_repr)\n",
    "#viewer\n",
    "#view"
   ]
  },
  {
   "cell_type": "code",
   "execution_count": null,
   "metadata": {
    "collapsed": true
   },
   "outputs": [],
   "source": [
    "struct = nv.PdbIdStructure(\"2KPA\")\n",
    "#struct = nv.adaptor.FileStructure(nv.datafiles.PDB)\n",
    "initial_repr = [\n",
    "    {\"type\": \"line\", \"params\": {\n",
    "        \"sele\": \"protein\", \"color\": \"residueindex\"\n",
    "    }}\n",
    "]\n",
    "\n",
    "repr_2 = [\n",
    "    {\"type\": \"licorice\", \"params\": {\n",
    "        \"sele\": \"protein\" , \"color\": \"atoms\"\n",
    "    }}\n",
    "]\n",
    "\n",
    "viewer = nv.NGLWidget(struct, representations = repr_2)\n",
    "viewer"
   ]
  },
  {
   "cell_type": "code",
   "execution_count": null,
   "metadata": {
    "collapsed": true
   },
   "outputs": [],
   "source": [
    "initial_repr = [\n",
    "    {\"type\": \"cartoon\", \"params\": {\n",
    "        \"sele\": \"protein\", \"color\": \"sstruc\"\n",
    "    }}\n",
    "]\n",
    "\n",
    "view = nglview.NGLWidget(struc, representation=initial_repr)\n",
    "view"
   ]
  },
  {
   "cell_type": "code",
   "execution_count": null,
   "metadata": {
    "collapsed": true
   },
   "outputs": [],
   "source": [
    "import pytraj as pt\n",
    "import nglview as nv\n",
    "\n",
    "traj = traj = pt.load('2kpa.pdb', 'data/DPDP.parm7') \n",
    "view = nv.show_pytraj(traj)\n",
    "# view"
   ]
  },
  {
   "cell_type": "code",
   "execution_count": null,
   "metadata": {
    "collapsed": true
   },
   "outputs": [],
   "source": [
    "view.add_representation(repr_type='cartoon', selection='protein')\n",
    "\n",
    "# or shorter\n",
    "view.add_cartoon(selection=\"protein\")\n",
    "view.add_surface(selection=\"protein\", opacity=0.3)\n",
    "\n",
    "# specify color\n",
    "view.add_cartoon(selection=\"protein\", color='blue')\n",
    "\n",
    "# specify residue\n",
    "view.add_licorice('ALA, GLU')\n",
    "\n",
    "# clear representations\n",
    "view.clear_representations()\n",
    "..."
   ]
  },
  {
   "cell_type": "code",
   "execution_count": null,
   "metadata": {
    "collapsed": true
   },
   "outputs": [],
   "source": [
    "traj2 = pt.load('data/2kpa.pdb', 'data/DPDP.parm7')\n",
    "\n",
    "# superpose to 1st frame, using only CA atoms\n",
    "traj2.superpose(ref=0, mask='@CA')\n",
    "\n",
    "view2 = nv.show_pytraj(traj2)\n",
    "view2.clear_representations()\n",
    "view2.add_representation('cartoon')\n",
    "view2.add_representation('licorice', selection='not hydrogen')\n",
    "view2"
   ]
  },
  {
   "cell_type": "code",
   "execution_count": null,
   "metadata": {
    "collapsed": true
   },
   "outputs": [],
   "source": [
    "# load pdb file\n",
    "traj3 = pt.load('data/3b6r.pdb')\n",
    "\n",
    "# create view\n",
    "view3 = nv.show_pytraj(traj3)\n",
    "\n",
    "# display\n",
    "view3.center_view()\n",
    "view3"
   ]
  },
  {
   "cell_type": "code",
   "execution_count": null,
   "metadata": {
    "collapsed": true
   },
   "outputs": [],
   "source": []
  }
 ],
 "metadata": {
  "kernelspec": {
   "display_name": "Python 3",
   "language": "python",
   "name": "python3"
  },
  "language_info": {
   "codemirror_mode": {
    "name": "ipython",
    "version": 3
   },
   "file_extension": ".py",
   "mimetype": "text/x-python",
   "name": "python",
   "nbconvert_exporter": "python",
   "pygments_lexer": "ipython3",
   "version": "3.6.2"
  }
 },
 "nbformat": 4,
 "nbformat_minor": 2
}
